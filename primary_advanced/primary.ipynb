{
 "cells": [
  {
   "cell_type": "markdown",
   "metadata": {},
   "source": [
    "#  图像基本操作"
   ]
  },
  {
   "cell_type": "markdown",
   "metadata": {},
   "source": [
    "### 环境配置地址\n",
    "\n",
    "- Anaconda：\n",
    "- python_whl: https://www.lfd.uci.edu/~gohlke/pythonlibs/#opencv\n",
    "- eclipse: 按照自己的喜好，选择一个能debug就好，如Pycharm"
   ]
  },
  {
   "cell_type": "markdown",
   "metadata": {},
   "source": [
    "### 数据读取-图像\n",
    "cv2.IMREAD_COLOR: 彩色图像\n",
    "cv2.IMREAD_GRAYSCALE: 灰色图像"
   ]
  },
  {
   "cell_type": "code",
   "execution_count": 1,
   "metadata": {},
   "outputs": [],
   "source": [
    "import cv2 # opencv读取的格式是BGR\n",
    "import matplotlib.pyplot as plt\n",
    "import numpy as np\n",
    "%matplotlib inline\n",
    "\n",
    "img = cv2.imread('wife_and_children.jpg')"
   ]
  },
  {
   "cell_type": "code",
   "execution_count": 2,
   "metadata": {},
   "outputs": [
    {
     "data": {
      "text/plain": [
       "array([[[202, 201, 203],\n",
       "        [202, 201, 203],\n",
       "        [201, 203, 204],\n",
       "        ...,\n",
       "        [188, 199, 207],\n",
       "        [191, 200, 210],\n",
       "        [191, 200, 210]],\n",
       "\n",
       "       [[200, 199, 201],\n",
       "        [200, 199, 201],\n",
       "        [204, 203, 205],\n",
       "        ...,\n",
       "        [193, 204, 212],\n",
       "        [193, 202, 212],\n",
       "        [191, 200, 210]],\n",
       "\n",
       "       [[197, 196, 198],\n",
       "        [201, 200, 202],\n",
       "        [205, 204, 208],\n",
       "        ...,\n",
       "        [197, 206, 215],\n",
       "        [195, 204, 214],\n",
       "        [193, 202, 212]],\n",
       "\n",
       "       ...,\n",
       "\n",
       "       [[193, 196, 201],\n",
       "        [189, 192, 197],\n",
       "        [190, 193, 198],\n",
       "        ...,\n",
       "        [195, 198, 203],\n",
       "        [197, 200, 205],\n",
       "        [197, 200, 205]],\n",
       "\n",
       "       [[191, 194, 199],\n",
       "        [188, 191, 196],\n",
       "        [192, 195, 200],\n",
       "        ...,\n",
       "        [195, 198, 203],\n",
       "        [196, 199, 204],\n",
       "        [195, 198, 203]],\n",
       "\n",
       "       [[191, 194, 199],\n",
       "        [190, 193, 198],\n",
       "        [196, 199, 204],\n",
       "        ...,\n",
       "        [196, 199, 204],\n",
       "        [196, 199, 204],\n",
       "        [195, 198, 203]]], dtype=uint8)"
      ]
     },
     "execution_count": 2,
     "metadata": {},
     "output_type": "execute_result"
    }
   ],
   "source": [
    "img"
   ]
  },
  {
   "cell_type": "code",
   "execution_count": null,
   "metadata": {
    "scrolled": true
   },
   "outputs": [],
   "source": [
    "cv2.imshow('wife_and_children', img)\n",
    "cv2.waitKey(0) # 按任意键就可以消失，若是10000，就是10秒之后消失。通常，都是0；\n",
    "cv2.destroyAllWindows()"
   ]
  },
  {
   "cell_type": "code",
   "execution_count": 3,
   "metadata": {},
   "outputs": [],
   "source": [
    "def cv_show(name, img):\n",
    "    cv2.imshow(name, img)\n",
    "    cv2.waitKey(0)\n",
    "    cv2.destroyAllWindows()"
   ]
  },
  {
   "cell_type": "code",
   "execution_count": 4,
   "metadata": {},
   "outputs": [
    {
     "data": {
      "text/plain": [
       "(1440, 1080, 3)"
      ]
     },
     "execution_count": 4,
     "metadata": {},
     "output_type": "execute_result"
    }
   ],
   "source": [
    "img.shape"
   ]
  },
  {
   "cell_type": "code",
   "execution_count": 5,
   "metadata": {},
   "outputs": [
    {
     "data": {
      "text/plain": [
       "array([[202, 202, 203, ..., 200, 202, 202],\n",
       "       [200, 200, 204, ..., 205, 204, 202],\n",
       "       [197, 201, 205, ..., 208, 206, 204],\n",
       "       ...,\n",
       "       [197, 193, 194, ..., 199, 201, 201],\n",
       "       [195, 192, 196, ..., 199, 200, 199],\n",
       "       [195, 194, 200, ..., 200, 200, 199]], dtype=uint8)"
      ]
     },
     "execution_count": 5,
     "metadata": {},
     "output_type": "execute_result"
    }
   ],
   "source": [
    "img = cv2.imread('wife_and_children.jpg',cv2.IMREAD_GRAYSCALE)\n",
    "img"
   ]
  },
  {
   "cell_type": "markdown",
   "metadata": {},
   "source": [
    "以上为灰度图，在一些检测任务或识别任务当中，都需要转换成灰度图，在灰度图上各种预处理；"
   ]
  },
  {
   "cell_type": "code",
   "execution_count": 6,
   "metadata": {},
   "outputs": [
    {
     "data": {
      "text/plain": [
       "(1440, 1080)"
      ]
     },
     "execution_count": 6,
     "metadata": {},
     "output_type": "execute_result"
    }
   ],
   "source": [
    "img.shape"
   ]
  },
  {
   "cell_type": "code",
   "execution_count": 7,
   "metadata": {},
   "outputs": [
    {
     "data": {
      "text/plain": [
       "numpy.ndarray"
      ]
     },
     "execution_count": 7,
     "metadata": {},
     "output_type": "execute_result"
    }
   ],
   "source": [
    "type(img)"
   ]
  },
  {
   "cell_type": "code",
   "execution_count": null,
   "metadata": {},
   "outputs": [],
   "source": [
    "cv_show('read', img)"
   ]
  },
  {
   "cell_type": "code",
   "execution_count": null,
   "metadata": {},
   "outputs": [],
   "source": [
    "# 保存\n",
    "cv2.imwrite('myfamily.png', img)"
   ]
  },
  {
   "cell_type": "code",
   "execution_count": 8,
   "metadata": {},
   "outputs": [
    {
     "data": {
      "text/plain": [
       "1555200"
      ]
     },
     "execution_count": 8,
     "metadata": {},
     "output_type": "execute_result"
    }
   ],
   "source": [
    "img.size # 像素点的个数"
   ]
  },
  {
   "cell_type": "code",
   "execution_count": 9,
   "metadata": {},
   "outputs": [
    {
     "data": {
      "text/plain": [
       "dtype('uint8')"
      ]
     },
     "execution_count": 9,
     "metadata": {},
     "output_type": "execute_result"
    }
   ],
   "source": [
    "img.dtype # 数据的类型"
   ]
  },
  {
   "cell_type": "markdown",
   "metadata": {},
   "source": [
    "## 数据读取-视频\n",
    "\n",
    "- cv2.VideoCapture可以捕获摄像头，用数字来控制不同的设备，例如：0,1\n",
    "- 如果是视频文件，直接指定好路径即可；\n",
    "\n",
    "其实视频也是有一张一张的图片构成的。"
   ]
  },
  {
   "cell_type": "code",
   "execution_count": null,
   "metadata": {},
   "outputs": [],
   "source": []
  }
 ],
 "metadata": {
  "kernelspec": {
   "display_name": "Python 3",
   "language": "python",
   "name": "python3"
  },
  "language_info": {
   "codemirror_mode": {
    "name": "ipython",
    "version": 3
   },
   "file_extension": ".py",
   "mimetype": "text/x-python",
   "name": "python",
   "nbconvert_exporter": "python",
   "pygments_lexer": "ipython3",
   "version": "3.7.6"
  }
 },
 "nbformat": 4,
 "nbformat_minor": 4
}
